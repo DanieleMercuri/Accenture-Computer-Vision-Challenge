{
  "cells": [
    {
      "cell_type": "markdown",
      "metadata": {
        "id": "97eWpYCnSD8y"
      },
      "source": [
        "### **Import modules:**"
      ]
    },
    {
      "cell_type": "code",
      "execution_count": 1,
      "metadata": {
        "id": "0-ozIPch8a1v"
      },
      "outputs": [],
      "source": [
        "import numpy as np\n",
        "from PIL import Image\n",
        "from matplotlib import pyplot\n",
        "from sklearn.model_selection import train_test_split\n",
        "from skimage import color, io\n",
        "from keras.utils import to_categorical\n",
        "from keras.layers import Dense, Activation, Flatten, Conv2D, MaxPooling2D\n",
        "from keras.models import Sequential\n",
        "import keras\n",
        "from google.colab import drive\n"
      ]
    },
    {
      "cell_type": "markdown",
      "metadata": {
        "id": "d9ohEEmOSUf_"
      },
      "source": [
        "### **Load the Dataset:**\n",
        "si assegnano alle immagini le etichette stabilite in: labels.csv"
      ]
    },
    {
      "cell_type": "code",
      "source": [
        "drive.mount('/content/drive')\n",
        "\n",
        "images= []\n",
        "labels = []\n",
        "with open('/content/drive/MyDrive/Data/labels.csv', 'r') as f:\n",
        "    for line in f.readlines():\n",
        "      labels.append(int(line[-2]))\n",
        "      images.append(io.imread(f'/content/drive/MyDrive/Data/images/{line[7:19]}'))\n",
        "\n",
        "\n",
        "X_train, X_test, y_train, y_test = train_test_split(images, labels, random_state=104, test_size=0.25, shuffle=True)\n",
        "\n",
        "#reshape\n",
        "X_train = np.array(X_train)\n",
        "X_test = np.array(X_test)\n",
        "\n",
        "X_train = X_train.reshape(-1, 300, 300, 1)\n",
        "X_test = X_test.reshape(-1, 300, 300, 1)\n",
        "\n",
        "y_train = to_categorical(y_train)\n",
        "y_test = to_categorical(y_test)"
      ],
      "metadata": {
        "colab": {
          "base_uri": "https://localhost:8080/"
        },
        "id": "mbW0qZPapmBu",
        "outputId": "5b201336-53a1-43c7-a5bf-193ce02fca72"
      },
      "execution_count": 2,
      "outputs": [
        {
          "output_type": "stream",
          "name": "stdout",
          "text": [
            "Drive already mounted at /content/drive; to attempt to forcibly remount, call drive.mount(\"/content/drive\", force_remount=True).\n"
          ]
        }
      ]
    },
    {
      "cell_type": "markdown",
      "source": [
        "### **Define model**"
      ],
      "metadata": {
        "id": "W_ouhkLmiS4w"
      }
    },
    {
      "cell_type": "code",
      "execution_count": 3,
      "metadata": {
        "colab": {
          "base_uri": "https://localhost:8080/"
        },
        "id": "Jklo-htZKYXY",
        "outputId": "fc7b69a2-540d-4cd9-d06a-361a944a4fb3"
      },
      "outputs": [
        {
          "output_type": "stream",
          "name": "stdout",
          "text": [
            "Model: \"sequential\"\n",
            "_________________________________________________________________\n",
            " Layer (type)                Output Shape              Param #   \n",
            "=================================================================\n",
            " conv2d (Conv2D)             (None, 296, 296, 64)      1664      \n",
            "                                                                 \n",
            " activation (Activation)     (None, 296, 296, 64)      0         \n",
            "                                                                 \n",
            " max_pooling2d (MaxPooling2D  (None, 148, 148, 64)     0         \n",
            " )                                                               \n",
            "                                                                 \n",
            " conv2d_1 (Conv2D)           (None, 146, 146, 128)     73856     \n",
            "                                                                 \n",
            " activation_1 (Activation)   (None, 146, 146, 128)     0         \n",
            "                                                                 \n",
            " max_pooling2d_1 (MaxPooling  (None, 73, 73, 128)      0         \n",
            " 2D)                                                             \n",
            "                                                                 \n",
            " flatten (Flatten)           (None, 682112)            0         \n",
            "                                                                 \n",
            " dense (Dense)               (None, 64)                43655232  \n",
            "                                                                 \n",
            " dense_1 (Dense)             (None, 32)                2080      \n",
            "                                                                 \n",
            " dense_2 (Dense)             (None, 2)                 66        \n",
            "                                                                 \n",
            " activation_2 (Activation)   (None, 2)                 0         \n",
            "                                                                 \n",
            "=================================================================\n",
            "Total params: 43,732,898\n",
            "Trainable params: 43,732,898\n",
            "Non-trainable params: 0\n",
            "_________________________________________________________________\n"
          ]
        }
      ],
      "source": [
        "model = Sequential()\n",
        "model.add(Conv2D(64, kernel_size=(5,5), input_shape=(300, 300, 1)))\n",
        "model.add(Activation('relu'))\n",
        "model.add(MaxPooling2D(pool_size=(2,2)))\n",
        "model.add(Conv2D(128, kernel_size=(3,3)))\n",
        "model.add(Activation('relu'))\n",
        "model.add(MaxPooling2D(pool_size=(2,2)))\n",
        "model.add(Flatten())\n",
        "model.add(Dense(64))\n",
        "model.add(Dense(32))\n",
        "model.add(Dense(2))\n",
        "model.add(Activation('softmax'))\n",
        "model.compile(loss=keras.losses.categorical_crossentropy, optimizer=keras.optimizers.Adam(),metrics=['accuracy'])\n",
        "\n",
        "model.summary()"
      ]
    },
    {
      "cell_type": "markdown",
      "source": [
        "### **Train model**"
      ],
      "metadata": {
        "id": "d6BP-iAlOVWU"
      }
    },
    {
      "cell_type": "code",
      "source": [
        "history = model.fit(X_train, y_train, batch_size=32, epochs=2)\n"
      ],
      "metadata": {
        "colab": {
          "base_uri": "https://localhost:8080/"
        },
        "id": "9BZ0hqxDzCv8",
        "outputId": "35d09ac3-c597-4979-8c6e-18e249cc81db"
      },
      "execution_count": 4,
      "outputs": [
        {
          "output_type": "stream",
          "name": "stdout",
          "text": [
            "Epoch 1/2\n",
            "62/62 [==============================] - 594s 10s/step - loss: 583.3785 - accuracy: 0.6331\n",
            "Epoch 2/2\n",
            "62/62 [==============================] - 601s 10s/step - loss: 0.5853 - accuracy: 0.7149\n"
          ]
        }
      ]
    },
    {
      "cell_type": "markdown",
      "source": [
        "### **Evaluate the model**"
      ],
      "metadata": {
        "id": "wIq-nqd4Ochx"
      }
    },
    {
      "cell_type": "code",
      "source": [
        "test_eval = model.evaluate(X_test, y_test, verbose=0)\n",
        "print('Test loss:', test_eval[0])\n",
        "print('Test accuracy:', test_eval[1])"
      ],
      "metadata": {
        "colab": {
          "base_uri": "https://localhost:8080/"
        },
        "id": "-TI1PNvgL8Oz",
        "outputId": "097eb08d-b0a9-4914-f493-1a73de89602a"
      },
      "execution_count": 5,
      "outputs": [
        {
          "output_type": "stream",
          "name": "stdout",
          "text": [
            "Test loss: 0.5631474256515503\n",
            "Test accuracy: 0.7484756112098694\n"
          ]
        }
      ]
    }
  ],
  "metadata": {
    "colab": {
      "provenance": []
    },
    "kernelspec": {
      "display_name": "Python 3",
      "language": "python",
      "name": "python3"
    },
    "language_info": {
      "codemirror_mode": {
        "name": "ipython",
        "version": 3
      },
      "file_extension": ".py",
      "mimetype": "text/x-python",
      "name": "python",
      "nbconvert_exporter": "python",
      "pygments_lexer": "ipython3",
      "version": "3.9.13"
    },
    "vscode": {
      "interpreter": {
        "hash": "47e3f425e1f5e080840b02324288bfe2474c53b4d8fc90d3d863797934e6a5da"
      }
    },
    "gpuClass": "standard"
  },
  "nbformat": 4,
  "nbformat_minor": 0
}